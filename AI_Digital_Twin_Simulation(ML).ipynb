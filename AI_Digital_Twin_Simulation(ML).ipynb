{
  "nbformat": 4,
  "nbformat_minor": 0,
  "metadata": {
    "colab": {
      "provenance": []
    },
    "kernelspec": {
      "name": "python3",
      "display_name": "Python 3"
    },
    "language_info": {
      "name": "python"
    }
  },
  "cells": [
    {
      "cell_type": "markdown",
      "source": [
        "Machine Learning model to analyse the relation between temperature behaviour and flow rate"
      ],
      "metadata": {
        "id": "6gWgTA9viV1P"
      }
    },
    {
      "cell_type": "code",
      "source": [
        "import dash\n",
        "from dash import dcc\n",
        "from dash import html\n",
        "from dash.dependencies import Input, Output\n",
        "import plotly.express as px\n",
        "import pandas as pd\n",
        "import plotly.graph_objs as go\n",
        "import plotly.express as px\n",
        "import numpy as np\n",
        "from sklearn.linear_model import LinearRegression"
      ],
      "metadata": {
        "id": "kOb2aaL1ipGf"
      },
      "execution_count": 6,
      "outputs": []
    },
    {
      "cell_type": "code",
      "source": [
        "# IoT data\n",
        "\n",
        "time = np.linspace(0, 10, 100)\n",
        "sensor_temp = 25 + 3 * np.sin(time)\n",
        "flow_rate = 10 + 2 * np.sin(time)"
      ],
      "metadata": {
        "id": "uSwpEuqDjphx"
      },
      "execution_count": 7,
      "outputs": []
    },
    {
      "cell_type": "code",
      "source": [
        "# Physics based\n",
        "\n",
        "def Physics_model(sensor_temp, flow_rate):\n",
        "  return flow_rate * (sensor_temp - 25)"
      ],
      "metadata": {
        "id": "-7174INJj6WX"
      },
      "execution_count": 8,
      "outputs": []
    },
    {
      "cell_type": "code",
      "source": [
        "# ML prediction\n",
        "\n",
        "X = np.array(sensor_temp).reshape(-1, 1)\n",
        "y = np.array(flow_rate)\n",
        "model = LinearRegression().fit(X, y)"
      ],
      "metadata": {
        "id": "0xUHWl_FkLhD"
      },
      "execution_count": 9,
      "outputs": []
    },
    {
      "cell_type": "code",
      "source": [
        "def ml_prediction(sensor_temp):\n",
        "  return model.predict(np.array(sensor_temp).reshape(-1, 1))"
      ],
      "metadata": {
        "id": "4_VN9LxfkS20"
      },
      "execution_count": 10,
      "outputs": []
    },
    {
      "cell_type": "code",
      "source": [
        "# dashboard\n",
        "\n",
        "app = dash.Dash(__name__)\n",
        "\n",
        "app.layout = html.Div([\n",
        "    html.H1(\"Digital Twin Dashboard\", style={'color': 'red'}),\n",
        "    html.P(\"This is a dashboard that shows the current state of the digital twin.\", style={'color': 'red'}),\n",
        "    dcc.Graph(id='temperature-plot'),\n",
        "    dcc.Graph(id='flow-rate-plot'),\n",
        "    dcc.Graph(id='physics-model-plot'),\n",
        "    dcc.Graph(id='ml-prediction-plot'),\n",
        "    dcc.Interval(\n",
        "        id='interval-component',\n",
        "        interval=1*1000, # in milliseconds\n",
        "        n_intervals=0\n",
        "    )\n",
        "])"
      ],
      "metadata": {
        "id": "hKZKllqEkmN7"
      },
      "execution_count": 11,
      "outputs": []
    },
    {
      "cell_type": "code",
      "source": [
        "@app.callback(\n",
        "    Output('temperature-plot', 'figure'),\n",
        "    Output('flow-rate-plot', 'figure'),\n",
        "    Output('physics-model-plot', 'figure'),\n",
        "    Output('ml-prediction-plot', 'figure'),\n",
        "    Input('interval-component', 'n_intervals')\n",
        ")\n",
        "def update_graphs(n):\n",
        "  sim_temp = Physics_model(sensor_temp, flow_rate) # Corrected typo\n",
        "  ml_temp = ml_prediction(sensor_temp)\n",
        "\n",
        "  mae_sim = np.mean(np.abs(sim_temp - flow_rate))\n",
        "  mae_ml = np.mean(np.abs(ml_temp - flow_rate))\n",
        "\n",
        "  # Create individual figures for each output\n",
        "  fig_temp = go.Figure(data=[go.Scatter(x=time, y=sensor_temp, mode='lines', name='Sensor Temperature')])\n",
        "  fig_temp.update_layout(title='Sensor Temperature', xaxis_title='Time', yaxis_title='Temperature')\n",
        "\n",
        "  fig_flow = go.Figure(data=[go.Scatter(x=time, y=flow_rate, mode='lines', name='Flow Rate')])\n",
        "  fig_flow.update_layout(title='Flow Rate', xaxis_title='Time', yaxis_title='Flow Rate')\n",
        "\n",
        "  fig_physics = go.Figure(data=[go.Scatter(x=time, y=sim_temp, mode='lines', name=f'Physics Model (MAE: {mae_sim:.2f})')])\n",
        "  fig_physics.update_layout(title='Physics Model Prediction', xaxis_title='Time', yaxis_title='Value')\n",
        "\n",
        "  fig_ml = go.Figure(data=[go.Scatter(x=time, y=ml_temp, mode='lines', name=f'ML Prediction (MAE: {mae_ml:.2f})')])\n",
        "  fig_ml.update_layout(title='ML Model Prediction', xaxis_title='Time', yaxis_title='Value')\n",
        "\n",
        "  return fig_temp, fig_flow, fig_physics, fig_ml"
      ],
      "metadata": {
        "id": "ASHkfE3ilHBB"
      },
      "execution_count": 12,
      "outputs": []
    },
    {
      "cell_type": "code",
      "source": [
        "# run\n",
        "\n",
        "if __name__ == '__main__':\n",
        "    app.run(debug=True)"
      ],
      "metadata": {
        "colab": {
          "base_uri": "https://localhost:8080/",
          "height": 671
        },
        "id": "5b9L0PfDl-id",
        "outputId": "44b0a4ca-9449-43c1-f31a-285660156ebe"
      },
      "execution_count": 13,
      "outputs": [
        {
          "output_type": "display_data",
          "data": {
            "text/plain": [
              "<IPython.core.display.Javascript object>"
            ],
            "application/javascript": [
              "(async (port, path, width, height, cache, element) => {\n",
              "    if (!google.colab.kernel.accessAllowed && !cache) {\n",
              "      return;\n",
              "    }\n",
              "    element.appendChild(document.createTextNode(''));\n",
              "    const url = await google.colab.kernel.proxyPort(port, {cache});\n",
              "    const iframe = document.createElement('iframe');\n",
              "    iframe.src = new URL(path, url).toString();\n",
              "    iframe.height = height;\n",
              "    iframe.width = width;\n",
              "    iframe.style.border = 0;\n",
              "    iframe.allow = [\n",
              "        'accelerometer',\n",
              "        'autoplay',\n",
              "        'camera',\n",
              "        'clipboard-read',\n",
              "        'clipboard-write',\n",
              "        'gyroscope',\n",
              "        'magnetometer',\n",
              "        'microphone',\n",
              "        'serial',\n",
              "        'usb',\n",
              "        'xr-spatial-tracking',\n",
              "    ].join('; ');\n",
              "    element.appendChild(iframe);\n",
              "  })(8050, \"/\", \"100%\", 650, false, window.element)"
            ]
          },
          "metadata": {}
        }
      ]
    },
    {
      "cell_type": "markdown",
      "source": [],
      "metadata": {
        "id": "0GtEV-ffousA"
      }
    }
  ]
}