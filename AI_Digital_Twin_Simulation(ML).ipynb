        "import dash\n",
        "from dash import dcc\n",
        "from dash import html\n",
        "from dash.dependencies import Input, Output\n",
        "import plotly.express as px\n",
        "import pandas as pd\n",
        "import plotly.graph_objs as go\n",
        "import plotly.express as px\n",
        "import numpy as np\n",
        "from sklearn.linear_model import LinearRegression"
      
     
        "def Physics_model(sensor_temp, flow_rate):\n",
        "  return flow_rate * (sensor_temp - 25)"
     
        "X = np.array(sensor_temp).reshape(-1, 1)\n",
        "y = np.array(flow_rate)\n",
        "model = LinearRegression().fit(X, y)"
     
        "def ml_prediction(sensor_temp):\n",
        "  return model.predict(np.array(sensor_temp).reshape(-1, 1))"
    
        "# dashboard\n",
        "\n",
        "app = dash.Dash(__name__)\n",
        "\n",
        "app.layout = html.Div,
        "    html.H1(\"Digital Twin Dashboard\", style={'color': 'red'}),\n",
        "    html.P(\"This is a dashboard that shows the current state of the digital twin.\", style={'color': 'red'}),\n",
        "    dcc.Graph(id='temperature-plot'),\n",
        "    dcc.Graph(id='flow-rate-plot'),\n",
        "    dcc.Graph(id='physics-model-plot'),\n",
        "    dcc.Graph(id='ml-prediction-plot'),\n",
        "    dcc.Interval(\n",
        "        id='interval-component',\n",
        "        interval=1*1000, # in milliseconds\n",
        "        n_intervals=0\n",
        " 
             "@app.callback(\n",
        "    Output('temperature-plot', 'figure'),\n",
        "    Output('flow-rate-plot', 'figure'),\n",
        "    Output('physics-model-plot', 'figure'),\n",
        "    Output('ml-prediction-plot', 'figure'),\n",
        "    Input('interval-component', 'n_intervals')\n",
        ")\n",
        "def update_graphs(n):\n",
        "  sim_temp = Physics_model(sensor_temp, flow_rate) # Corrected typo\n",
        "  ml_temp = ml_prediction(sensor_temp)\n",
        "\n",
        "  mae_sim = np.mean(np.abs(sim_temp - flow_rate))\n",
        "  mae_ml = np.mean(np.abs(ml_temp - flow_rate))\n",
        "\n",
        "  # Create individual figures for each output\n",
        "  fig_temp = go.Figure(data=[go.Scatter(x=time, y=sensor_temp, mode='lines', name='Sensor Temperature')])\n",
        "  fig_temp.update_layout(title='Sensor Temperature', xaxis_title='Time', yaxis_title='Temperature')\n",
        "\n",
        "  fig_flow = go.Figure(data=[go.Scatter(x=time, y=flow_rate, mode='lines', name='Flow Rate')])\n",
        "  fig_flow.update_layout(title='Flow Rate', xaxis_title='Time', yaxis_title='Flow Rate')\n",
        "\n",
        "  fig_physics = go.Figure(data=[go.Scatter(x=time, y=sim_temp, mode='lines', name=f'Physics Model (MAE: {mae_sim:.2f})')])\n",
        "  fig_physics.update_layout(title='Physics Model Prediction', xaxis_title='Time', yaxis_title='Value')\n",
        "\n",
        "  fig_ml = go.Figure(data=[go.Scatter(x=time, y=ml_temp, mode='lines', name=f'ML Prediction (MAE: {mae_ml:.2f})')])\n",
        "  fig_ml.update_layout(title='ML Model Prediction', xaxis_title='Time', yaxis_title='Value')\n",
        "\n",
        "  return fig_temp, fig_flow, fig_physics, fig_ml"
      
        "if __name__ == '__main__':\n",
        "    app.run(debug=True)"
      
